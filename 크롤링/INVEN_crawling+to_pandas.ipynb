{
 "cells": [
  {
   "cell_type": "markdown",
   "metadata": {
    "collapsed": true
   },
   "source": [
    "## Selenium crawler"
   ]
  },
  {
   "cell_type": "markdown",
   "metadata": {},
   "source": [
    "#### 참조한 사이트 : \n",
    "- https://beomi.github.io/2017/02/27/HowToMakeWebCrawler-With-Selenium/  ## Selenium 전체적인 사용법\n",
    "- http://yumere.tistory.com/75  ## submit 함수 사용법"
   ]
  },
  {
   "cell_type": "markdown",
   "metadata": {},
   "source": [
    "## Inven crawling"
   ]
  },
  {
   "cell_type": "markdown",
   "metadata": {},
   "source": [
    "#### 참조한 사이트\n",
    "- https://www.guru99.com/xpath-selenium.html  ## xpath에 관한 글"
   ]
  },
  {
   "cell_type": "code",
   "execution_count": null,
   "metadata": {
    "collapsed": true
   },
   "outputs": [],
   "source": [
    "from selenium import webdriver"
   ]
  },
  {
   "cell_type": "code",
   "execution_count": null,
   "metadata": {
    "collapsed": true
   },
   "outputs": [],
   "source": [
    "##chrome automation\n",
    "driver = webdriver.Chrome('/Users/김호준/Documents/chrome_webdriver/chromedriver') ##install chromedriver in \n",
    "                                                                      ##your computer and locate its directory.\n",
    "driver.implicitly_wait(3) "
   ]
  },
  {
   "cell_type": "code",
   "execution_count": null,
   "metadata": {
    "collapsed": true
   },
   "outputs": [],
   "source": [
    "## open LOL inven site\n",
    "driver.get('http://lol.inven.co.kr/dataninfo/match/playerList.php?iskin=lol&shipGroup=&shipCode=&playerName=&champ=0&targetName=&startDate=&endDate=')"
   ]
  },
  {
   "cell_type": "code",
   "execution_count": null,
   "metadata": {},
   "outputs": [],
   "source": [
    "## find '더보기' element's javascript and click it\n",
    "import time\n",
    "while(True):\n",
    "    more_data = driver.find_element_by_xpath('//*[@class=\"moreline\"]//a[@href=\"javascript:void(0);\"]') ## '더보기' button javascript\n",
    "    more_data.click()\n",
    "    time.sleep(10) ##give loading time to chrome browser"
   ]
  },
  {
   "cell_type": "markdown",
   "metadata": {},
   "source": [
    "## Use BeautifulSoup"
   ]
  },
  {
   "cell_type": "code",
   "execution_count": null,
   "metadata": {
    "collapsed": true
   },
   "outputs": [],
   "source": [
    "## get html source of current page\n",
    "html = driver.page_source"
   ]
  },
  {
   "cell_type": "code",
   "execution_count": null,
   "metadata": {
    "collapsed": true
   },
   "outputs": [],
   "source": [
    "from bs4 import BeautifulSoup"
   ]
  },
  {
   "cell_type": "code",
   "execution_count": null,
   "metadata": {
    "collapsed": true
   },
   "outputs": [],
   "source": [
    "soup = BeautifulSoup(html, 'html.parser')"
   ]
  },
  {
   "cell_type": "code",
   "execution_count": null,
   "metadata": {
    "collapsed": true
   },
   "outputs": [],
   "source": [
    "prettify = soup('tbody')[1].prettify('euc-kr')\n",
    "with open(\"output_score.html\", \"wb\") as file:\n",
    "    file.write(prettify)"
   ]
  },
  {
   "cell_type": "code",
   "execution_count": null,
   "metadata": {
    "collapsed": true
   },
   "outputs": [],
   "source": [
    "file = open(\"output_score.html\", 'r')"
   ]
  },
  {
   "cell_type": "code",
   "execution_count": null,
   "metadata": {
    "collapsed": true
   },
   "outputs": [],
   "source": [
    "html = BeautifulSoup(file, 'html.parser')"
   ]
  },
  {
   "cell_type": "code",
   "execution_count": null,
   "metadata": {
    "collapsed": true
   },
   "outputs": [],
   "source": [
    "data = html.find_all(\"td\")"
   ]
  },
  {
   "cell_type": "code",
   "execution_count": null,
   "metadata": {
    "collapsed": true
   },
   "outputs": [],
   "source": [
    "print(data[0:11]) #0 : index, 1 : competition name, 2 : player name, 3 : played character, 4 : summoner spell, 5 : win/lose, 6 : Kill, \n",
    "                  #7 : Death, 8 : Assist, 9 : KDA, 10 : kill contribution"
   ]
  },
  {
   "cell_type": "code",
   "execution_count": null,
   "metadata": {
    "collapsed": true
   },
   "outputs": [],
   "source": [
    "str_data = []\n",
    "for i in range(0, len(data)):\n",
    "    string = str(data[i])\n",
    "    data[i] = str(data[i])\n",
    "    if(i % 11 == 0):\n",
    "        str_data.append(string.replace(\"<td>\\n   \", '').replace(\"\\n  </td>\", ''))\n",
    "    elif(i % 11 == 1):\n",
    "        begin = string.find(\"'\")\n",
    "        end = string.find(\"'\", begin+1)\n",
    "        str_data.append(string[begin+1:end])\n",
    "    elif(i % 11 == 2):\n",
    "        begin = string.find('\">\\n   ')\n",
    "        end = string.find(\"\\n\", begin+7)\n",
    "        str_data.append(string[begin+6:end])\n",
    "    elif(i % 11 == 3):\n",
    "        begin = string.find(\"'\")\n",
    "        end = string.find(\"'\", begin+1)\n",
    "        str_data.append(string[begin+1:end])\n",
    "    elif(i % 11 == 4):\n",
    "        begin1 = string.find(\"'\")\n",
    "        end1 = string.find(\"'\", begin1+1)\n",
    "        str_data.append(string[begin1+1:end1])\n",
    "        \n",
    "        begin2 = string.find(\"'\", end1+1)\n",
    "        end2 = string.find(\"'\", begin2+1)\n",
    "        str_data.append(string[begin2+1:end2])\n",
    "    elif(i % 11 == 5):\n",
    "        str_data.append(string[8])\n",
    "    elif(i % 11 == 6):\n",
    "        str_data.append(string[8])\n",
    "    elif(i % 11 == 7):\n",
    "        str_data.append(string[8])\n",
    "    elif(i % 11 == 8):\n",
    "        str_data.append(string[8])\n",
    "    elif(i % 11 == 9):\n",
    "        end = string.find(\"\\n  </td>\")\n",
    "        str_data.append(string[8:end])\n",
    "    elif(i % 11 == 10):\n",
    "        end = string.find(\"\\n  </td>\")\n",
    "        str_data.append(string[8:end])\n",
    "# print(data[0:1500])\n",
    "print(str_data[0:-1000])"
   ]
  },
  {
   "cell_type": "markdown",
   "metadata": {},
   "source": [
    "## Move to Pandas"
   ]
  },
  {
   "cell_type": "code",
   "execution_count": null,
   "metadata": {
    "collapsed": true
   },
   "outputs": [],
   "source": [
    "import pandas as pd\n",
    "import numpy as np\n",
    "import matplotlib.pyplot as plt"
   ]
  },
  {
   "cell_type": "code",
   "execution_count": null,
   "metadata": {
    "collapsed": true
   },
   "outputs": [],
   "source": [
    "before_pandas = []\n",
    "for i in range(0, int(len(str_data)/12)):\n",
    "    before_pandas.append(str_data[12 * i : 12 * i + 12])\n",
    "    \n",
    "print(before_pandas[0:5])"
   ]
  },
  {
   "cell_type": "code",
   "execution_count": null,
   "metadata": {
    "collapsed": true
   },
   "outputs": [],
   "source": [
    "column_name = ['대회날짜', '대회명', '선수이름', '챔피언', '스펠1', '스펠2', '승/패', '킬', '데스', '어시', 'KDA', '킬관여율']\n",
    "df = pd.DataFrame(before_pandas, columns=column_name)\n",
    "df"
   ]
  },
  {
   "cell_type": "code",
   "execution_count": null,
   "metadata": {
    "collapsed": true
   },
   "outputs": [],
   "source": [
    "df.to_csv(\"대회전적.csv\")"
   ]
  }
 ],
 "metadata": {
  "kernelspec": {
   "display_name": "Python 3",
   "language": "python",
   "name": "python3"
  },
  "language_info": {
   "codemirror_mode": {
    "name": "ipython",
    "version": 3
   },
   "file_extension": ".py",
   "mimetype": "text/x-python",
   "name": "python",
   "nbconvert_exporter": "python",
   "pygments_lexer": "ipython3",
   "version": "3.6.2"
  }
 },
 "nbformat": 4,
 "nbformat_minor": 2
}
