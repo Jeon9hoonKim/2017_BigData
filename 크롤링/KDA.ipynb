{
 "cells": [
  {
   "cell_type": "code",
   "execution_count": 70,
   "metadata": {
    "collapsed": true
   },
   "outputs": [],
   "source": [
    "from selenium import webdriver\n",
    "from bs4 import BeautifulSoup\n",
    "import pandas as pd\n",
    "import time"
   ]
  },
  {
   "cell_type": "code",
   "execution_count": 71,
   "metadata": {
    "collapsed": true
   },
   "outputs": [],
   "source": [
    "driver = webdriver.Chrome('D:\\Downloads/chromedriver')\n",
    "driver.implicitly_wait(3)\n",
    "driver.get('http://www.op.gg/summoner/userName=ktmata')"
   ]
  },
  {
   "cell_type": "code",
   "execution_count": 72,
   "metadata": {
    "collapsed": true
   },
   "outputs": [],
   "source": [
    "driver.find_element_by_xpath('//a[@data-type=\"soloranked\"]').click()"
   ]
  },
  {
   "cell_type": "code",
   "execution_count": 94,
   "metadata": {
    "collapsed": true
   },
   "outputs": [],
   "source": [
    "while True:\n",
    "    game_more_button = driver.find_elements_by_css_selector('div.GameMoreButton.Box')\n",
    "    if game_more_button == []:\n",
    "        break\n",
    "    game_more_button[0].click()\n",
    "    time.sleep(5)"
   ]
  },
  {
   "cell_type": "code",
   "execution_count": 95,
   "metadata": {},
   "outputs": [],
   "source": [
    "game_detail_button = driver.find_elements_by_css_selector('a.Button.MatchDetail')\n",
    "for a in game_detail_button:\n",
    "    a.click()\n",
    "    time.sleep(5)"
   ]
  },
  {
   "cell_type": "code",
   "execution_count": 98,
   "metadata": {},
   "outputs": [
    {
     "name": "stderr",
     "output_type": "stream",
     "text": [
      "IOPub data rate exceeded.\n",
      "The notebook server will temporarily stop sending output\n",
      "to the client in order to avoid crashing it.\n",
      "To change this limit, set the config variable\n",
      "`--NotebookApp.iopub_data_rate_limit`.\n"
     ]
    }
   ],
   "source": [
    "html = driver.page_source\n",
    "PlayerData = BeautifulSoup(html, 'html.parser')\n",
    "print(PlayerData.prettify())"
   ]
  },
  {
   "cell_type": "code",
   "execution_count": 110,
   "metadata": {},
   "outputs": [
    {
     "data": {
      "text/html": [
       "<div>\n",
       "<style>\n",
       "    .dataframe thead tr:only-child th {\n",
       "        text-align: right;\n",
       "    }\n",
       "\n",
       "    .dataframe thead th {\n",
       "        text-align: left;\n",
       "    }\n",
       "\n",
       "    .dataframe tbody tr th {\n",
       "        vertical-align: top;\n",
       "    }\n",
       "</style>\n",
       "<table border=\"1\" class=\"dataframe\">\n",
       "  <thead>\n",
       "    <tr style=\"text-align: right;\">\n",
       "      <th></th>\n",
       "      <th>MatchNumber</th>\n",
       "      <th>GameResult</th>\n",
       "      <th>Champion</th>\n",
       "      <th>Nickname</th>\n",
       "      <th>Kill</th>\n",
       "      <th>Death</th>\n",
       "      <th>Assist</th>\n",
       "      <th>KDA</th>\n",
       "    </tr>\n",
       "  </thead>\n",
       "  <tbody>\n",
       "    <tr>\n",
       "      <th>0</th>\n",
       "      <td>1</td>\n",
       "      <td>승리</td>\n",
       "      <td>나르</td>\n",
       "      <td>쌀국수뚝붸기</td>\n",
       "      <td>4</td>\n",
       "      <td>2</td>\n",
       "      <td>8</td>\n",
       "      <td>6.000000</td>\n",
       "    </tr>\n",
       "    <tr>\n",
       "      <th>1</th>\n",
       "      <td>1</td>\n",
       "      <td>승리</td>\n",
       "      <td>세주아니</td>\n",
       "      <td>정글노바</td>\n",
       "      <td>4</td>\n",
       "      <td>0</td>\n",
       "      <td>8</td>\n",
       "      <td>inf</td>\n",
       "    </tr>\n",
       "    <tr>\n",
       "      <th>2</th>\n",
       "      <td>1</td>\n",
       "      <td>승리</td>\n",
       "      <td>말자하</td>\n",
       "      <td>KT MATA</td>\n",
       "      <td>3</td>\n",
       "      <td>1</td>\n",
       "      <td>7</td>\n",
       "      <td>10.000000</td>\n",
       "    </tr>\n",
       "    <tr>\n",
       "      <th>3</th>\n",
       "      <td>1</td>\n",
       "      <td>승리</td>\n",
       "      <td>미스 포츈</td>\n",
       "      <td>Afreeca M0wgli</td>\n",
       "      <td>5</td>\n",
       "      <td>5</td>\n",
       "      <td>8</td>\n",
       "      <td>2.600000</td>\n",
       "    </tr>\n",
       "    <tr>\n",
       "      <th>4</th>\n",
       "      <td>1</td>\n",
       "      <td>승리</td>\n",
       "      <td>탐 켄치</td>\n",
       "      <td>진쟤승</td>\n",
       "      <td>4</td>\n",
       "      <td>1</td>\n",
       "      <td>10</td>\n",
       "      <td>14.000000</td>\n",
       "    </tr>\n",
       "  </tbody>\n",
       "</table>\n",
       "</div>"
      ],
      "text/plain": [
       "   MatchNumber GameResult Champion        Nickname  Kill  Death  Assist  \\\n",
       "0            1         승리       나르          쌀국수뚝붸기     4      2       8   \n",
       "1            1         승리     세주아니            정글노바     4      0       8   \n",
       "2            1         승리      말자하         KT MATA     3      1       7   \n",
       "3            1         승리    미스 포츈  Afreeca M0wgli     5      5       8   \n",
       "4            1         승리     탐 켄치             진쟤승     4      1      10   \n",
       "\n",
       "         KDA  \n",
       "0   6.000000  \n",
       "1        inf  \n",
       "2  10.000000  \n",
       "3   2.600000  \n",
       "4  14.000000  "
      ]
     },
     "execution_count": 110,
     "metadata": {},
     "output_type": "execute_result"
    }
   ],
   "source": [
    "team_raw = PlayerData.find_all('tbody', {'class':'Content'})\n",
    "game_raw = PlayerData.find_all('thead', {'class':'Header'})\n",
    "\n",
    "win_lose = []\n",
    "champion_list = []\n",
    "name_list = []\n",
    "kill_list = []\n",
    "death_list = []\n",
    "assist_list = []\n",
    "\n",
    "for gline in game_raw:\n",
    "    game_result_raw = gline.find_all('span', {'class':'GameResult'})\n",
    "    \n",
    "    game_result = []\n",
    "    for gresult in game_result_raw:\n",
    "        gresult = gresult.text.strip()\n",
    "        game_result.append(gresult)\n",
    "    win_lose.append(game_result)\n",
    "\n",
    "for line in team_raw:\n",
    "    teamdata = []\n",
    "    team_champion_raw = line.find_all('td', {'class':'ChampionImage Cell'})\n",
    "    team_name_raw = line.find_all('td', {'class':'SummonerName Cell'})\n",
    "    team_kill_raw = line.find_all('span',{'class':'Kill'})\n",
    "    team_death_raw = line.find_all('span',{'class':'Death'})\n",
    "    team_assist_raw = line.find_all('span',{'class':'Assist'})\n",
    "    \n",
    "    team_champion = []\n",
    "    for champ in team_champion_raw:\n",
    "        champ = champ.text.strip()\n",
    "        champ = champ[:champ.find('\\n')]\n",
    "        team_champion.append(champ)\n",
    "    champion_list.append(team_champion)\n",
    "\n",
    "    team_name = []\n",
    "    for name in team_name_raw:\n",
    "        name = name.text.strip()\n",
    "        team_name.append(name)\n",
    "    name_list.append(team_name)\n",
    "\n",
    "    team_kill = []\n",
    "    team_death = []\n",
    "    team_assist = []\n",
    "    team_kill_participation = []\n",
    "    \n",
    "    for kills in team_kill_raw:\n",
    "        kills = kills.text.strip()\n",
    "        team_kill.append(kills)\n",
    "    kill_list.append(team_kill)\n",
    "\n",
    "    for deaths in team_death_raw:\n",
    "        deaths = deaths.text.strip()\n",
    "        team_death.append(deaths)\n",
    "    death_list.append(team_death)\n",
    "\n",
    "    for assists in team_assist_raw:\n",
    "        assists = assists.text.strip()\n",
    "        team_assist.append(assists)\n",
    "    assist_list.append(team_assist)\n",
    "    \n",
    "win_lose = win_lose[1:]\n",
    "\n",
    "KDAsorted = []\n",
    "matchorder = 1\n",
    "matchnumber = 1\n",
    "for order in range(int((len(win_lose)+1)/2)):\n",
    "    matchnumber = matchnumber-1\n",
    "    for i in range(5):\n",
    "        team_member = []\n",
    "        team_member.append(matchorder)\n",
    "        team_member.append(win_lose[matchnumber][0])\n",
    "        team_member.append(champion_list[matchnumber][i])\n",
    "        team_member.append(name_list[matchnumber][i])\n",
    "        team_member.append(int(kill_list[matchnumber][i]))\n",
    "        team_member.append(int(death_list[matchnumber][i]))\n",
    "        team_member.append(int(assist_list[matchnumber][i]))\n",
    "        KDAsorted.append(team_member)\n",
    "    matchnumber += 1\n",
    "    for i in range(5):\n",
    "        team_member = []\n",
    "        team_member.append(matchorder)\n",
    "        team_member.append(win_lose[matchnumber][0])\n",
    "        team_member.append(champion_list[matchnumber][i])\n",
    "        team_member.append(name_list[matchnumber][i])\n",
    "        team_member.append(int(kill_list[matchnumber][i]))\n",
    "        team_member.append(int(death_list[matchnumber][i]))\n",
    "        team_member.append(int(assist_list[matchnumber][i]))\n",
    "        KDAsorted.append(team_member)\n",
    "    matchnumber += 2\n",
    "    matchorder += 1\n",
    "\n",
    "kda_data = pd.DataFrame(KDAsorted, columns=['MatchNumber','GameResult', 'Champion', 'Nickname', 'Kill', 'Death', 'Assist'])\n",
    "kda_data['KDA'] = (kda_data['Kill'] + kda_data['Assist'])/ kda_data['Death']\n",
    "kda_data.head()"
   ]
  },
  {
   "cell_type": "code",
   "execution_count": null,
   "metadata": {
    "collapsed": true
   },
   "outputs": [],
   "source": []
  }
 ],
 "metadata": {
  "kernelspec": {
   "display_name": "Python 3",
   "language": "python",
   "name": "python3"
  },
  "language_info": {
   "codemirror_mode": {
    "name": "ipython",
    "version": 3
   },
   "file_extension": ".py",
   "mimetype": "text/x-python",
   "name": "python",
   "nbconvert_exporter": "python",
   "pygments_lexer": "ipython3",
   "version": "3.6.3"
  }
 },
 "nbformat": 4,
 "nbformat_minor": 2
}
