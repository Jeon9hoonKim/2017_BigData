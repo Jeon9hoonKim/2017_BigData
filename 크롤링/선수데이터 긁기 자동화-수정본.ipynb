{
 "cells": [
  {
   "cell_type": "code",
   "execution_count": 1,
   "metadata": {
    "collapsed": true
   },
   "outputs": [],
   "source": [
    "from selenium import webdriver\n",
    "import requests\n",
    "from bs4 import BeautifulSoup\n",
    "import pandas as pd\n",
    "import time"
   ]
  },
  {
   "cell_type": "code",
   "execution_count": 3,
   "metadata": {},
   "outputs": [
    {
     "data": {
      "text/plain": [
       "['deft123456', 'Tar2an', 'SKT T1 Untara', '11 14 9 7 8 20', 'Longzhu Cuzz']"
      ]
     },
     "execution_count": 3,
     "metadata": {},
     "output_type": "execute_result"
    }
   ],
   "source": [
    "# get user list\n",
    "user_list = []\n",
    "for i in range(1,11):\n",
    "    url = 'http://www.op.gg/ranking/ladder/page={0}'.format(i)\n",
    "    resp = requests.get(url)\n",
    "    bs = BeautifulSoup(resp.text, 'html.parser')\n",
    "    users = bs.findAll(\"td\", {\"class\": \"ranking-table__cell ranking-table__cell--summoner\"})\n",
    "    for line in users:\n",
    "        line = str(line)\n",
    "        line = line[line.find(\"<span>\"):line.find(\"</span>\")].replace(\"<span>\",\"\")\n",
    "        user_list.append(line)\n",
    "user_list[:5]"
   ]
  },
  {
   "cell_type": "code",
   "execution_count": 4,
   "metadata": {
    "collapsed": true
   },
   "outputs": [],
   "source": [
    "## 수정할것 2가지\n",
    "start_number = 61 # 시작할 위치\n",
    "end_number = 100\n",
    "\n",
    "count = 1; # start number\n",
    "match_number_start = 20*(start_number-1)+1 # 시작할 match number , 보통 (count-1)*20+1"
   ]
  },
  {
   "cell_type": "code",
   "execution_count": null,
   "metadata": {
    "collapsed": true
   },
   "outputs": [],
   "source": [
    "def match_data_load(user_name, match_number_start):\n",
    "    file_name = \"user_kda_{0}.csv\".format(user_name)\n",
    "    \n",
    "    driver = webdriver.Chrome('D:\\chromedriver')\n",
    "    driver.implicitly_wait(3)\n",
    "    driver.get('http://www.op.gg/summoner/userName={0}'.format(user_name))\n",
    "    \n",
    "    driver.find_element_by_xpath('//a[@data-type=\"soloranked\"]').click()\n",
    "    \n",
    "    game_detail_button = driver.find_elements_by_css_selector('a.Button.MatchDetail')\n",
    "    for a in game_detail_button:\n",
    "        a.click()\n",
    "        time.sleep(1)\n",
    "    time.sleep(3)    \n",
    "    html = driver.page_source\n",
    "    PlayerData = BeautifulSoup(html, 'html.parser')\n",
    "#     print(PlayerData.prettify())\n",
    "    team_raw = PlayerData.find_all('tbody', {'class':'Content'})\n",
    "    game_raw = PlayerData.find_all('thead', {'class':'Header'})\n",
    "\n",
    "    win_lose = []\n",
    "    champion_list = []\n",
    "    name_list = []\n",
    "    kill_list = []\n",
    "    death_list = []\n",
    "    assist_list = []\n",
    "\n",
    "    for gline in game_raw:\n",
    "        game_result_raw = gline.find_all('span', {'class':'GameResult'})\n",
    "\n",
    "        game_result = []\n",
    "        for gresult in game_result_raw:\n",
    "            gresult = gresult.text.strip()\n",
    "            game_result.append(gresult)\n",
    "        win_lose.append(game_result)\n",
    "\n",
    "    for line in team_raw:\n",
    "        teamdata = []\n",
    "        team_champion_raw = line.find_all('td', {'class':'ChampionImage Cell'})\n",
    "        team_name_raw = line.find_all('td', {'class':'SummonerName Cell'})\n",
    "        team_kill_raw = line.find_all('span',{'class':'Kill'})\n",
    "        team_death_raw = line.find_all('span',{'class':'Death'})\n",
    "        team_assist_raw = line.find_all('span',{'class':'Assist'})\n",
    "\n",
    "        team_champion = []\n",
    "        for champ in team_champion_raw:\n",
    "            champ = champ.text.strip()\n",
    "            champ = champ[:champ.find('\\n')]\n",
    "            team_champion.append(champ)\n",
    "        champion_list.append(team_champion)\n",
    "\n",
    "        team_name = []\n",
    "        for name in team_name_raw:\n",
    "            name = name.text.strip()\n",
    "            team_name.append(name)\n",
    "        name_list.append(team_name)\n",
    "\n",
    "        team_kill = []\n",
    "        team_death = []\n",
    "        team_assist = []\n",
    "        team_kill_participation = []\n",
    "\n",
    "        for kills in team_kill_raw:\n",
    "            kills = kills.text.strip()\n",
    "            team_kill.append(kills)\n",
    "        kill_list.append(team_kill)\n",
    "\n",
    "        for deaths in team_death_raw:\n",
    "            deaths = deaths.text.strip()\n",
    "            team_death.append(deaths)\n",
    "        death_list.append(team_death)\n",
    "\n",
    "        for assists in team_assist_raw:\n",
    "            assists = assists.text.strip()\n",
    "            team_assist.append(assists)\n",
    "        assist_list.append(team_assist)\n",
    "\n",
    "    win_lose = win_lose[1:]\n",
    "\n",
    "    KDAsorted = []\n",
    "    matchorder = match_number_start\n",
    "    matchnumber = 1\n",
    "    for order in range(int((len(win_lose)+1)/2)):\n",
    "        matchnumber = matchnumber-1\n",
    "        for i in range(5):\n",
    "            team_member = []\n",
    "            team_member.append(matchorder)\n",
    "            team_member.append(win_lose[matchnumber][0])\n",
    "            team_member.append(champion_list[matchnumber][i])\n",
    "            team_member.append(name_list[matchnumber][i])\n",
    "            team_member.append(int(kill_list[matchnumber][i]))\n",
    "            team_member.append(int(death_list[matchnumber][i]))\n",
    "            team_member.append(int(assist_list[matchnumber][i]))\n",
    "            KDAsorted.append(team_member)\n",
    "        matchnumber += 1\n",
    "        for i in range(5):\n",
    "            team_member = []\n",
    "            team_member.append(matchorder)\n",
    "            team_member.append(win_lose[matchnumber][0])\n",
    "            team_member.append(champion_list[matchnumber][i])\n",
    "            team_member.append(name_list[matchnumber][i])\n",
    "            team_member.append(int(kill_list[matchnumber][i]))\n",
    "            team_member.append(int(death_list[matchnumber][i]))\n",
    "            team_member.append(int(assist_list[matchnumber][i]))\n",
    "            KDAsorted.append(team_member)\n",
    "        matchnumber += 2\n",
    "        matchorder += 1\n",
    "\n",
    "    kda_data = pd.DataFrame(KDAsorted, columns=['MatchNumber','GameResult', 'Champion', 'Nickname', 'Kill', 'Death', 'Assist'])\n",
    "    kda_data['KDA'] = (kda_data['Kill'] + kda_data['Assist'])/ kda_data['Death']\n",
    "    kda_data.head()\n",
    "    \n",
    "    kda_data.to_csv(file_name, encoding=\"utf8\")\n",
    "    driver.quit()\n",
    "    return matchorder"
   ]
  },
  {
   "cell_type": "code",
   "execution_count": null,
   "metadata": {},
   "outputs": [
    {
     "name": "stdout",
     "output_type": "stream",
     "text": [
      "complete! 61 error_start : count  62 start_number 1221\n",
      "complete! 62 error_start : count  63 start_number 1241\n",
      "complete! 63 error_start : count  64 start_number 1260\n",
      "complete! 64 error_start : count  65 start_number 1280\n",
      "complete! 65 error_start : count  66 start_number 1300\n",
      "complete! 66 error_start : count  67 start_number 1320\n",
      "complete! 67 error_start : count  68 start_number 1340\n",
      "complete! 68 error_start : count  69 start_number 1360\n",
      "complete! 69 error_start : count  70 start_number 1380\n",
      "complete! 70 error_start : count  71 start_number 1400\n"
     ]
    }
   ],
   "source": [
    "for user_name in user_list:\n",
    "    if count == end_number:\n",
    "        break\n",
    "    if count < start_number:\n",
    "        count += 1\n",
    "        continue\n",
    "    match_number_start = match_data_load(user_name, match_number_start)\n",
    "    print(\"complete! count :\",count,\", error_start : count\",count+1,\", start_number\", match_number_start)\n",
    "    count += 1"
   ]
  },
  {
   "cell_type": "code",
   "execution_count": null,
   "metadata": {
    "collapsed": true
   },
   "outputs": [],
   "source": []
  }
 ],
 "metadata": {
  "kernelspec": {
   "display_name": "Python 3",
   "language": "python",
   "name": "python3"
  },
  "language_info": {
   "codemirror_mode": {
    "name": "ipython",
    "version": 3
   },
   "file_extension": ".py",
   "mimetype": "text/x-python",
   "name": "python",
   "nbconvert_exporter": "python",
   "pygments_lexer": "ipython3",
   "version": "3.6.1"
  }
 },
 "nbformat": 4,
 "nbformat_minor": 2
}
