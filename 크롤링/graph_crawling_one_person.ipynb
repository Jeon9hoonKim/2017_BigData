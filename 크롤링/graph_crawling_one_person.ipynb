{
 "cells": [
  {
   "cell_type": "code",
   "execution_count": 9,
   "metadata": {
    "collapsed": true
   },
   "outputs": [],
   "source": [
    "from selenium import webdriver\n",
    "from bs4 import BeautifulSoup\n",
    "import pandas as pd\n",
    "import time"
   ]
  },
  {
   "cell_type": "code",
   "execution_count": 10,
   "metadata": {
    "collapsed": true
   },
   "outputs": [],
   "source": [
    "total_gold_table = pd.DataFrame()\n",
    "total_exp_table = pd.DataFrame()"
   ]
  },
  {
   "cell_type": "code",
   "execution_count": 4,
   "metadata": {
    "collapsed": true
   },
   "outputs": [],
   "source": [
    "driver = webdriver.Chrome('/Users/김호준/Documents/chrome_webdriver/chromedriver')\n",
    "driver.implicitly_wait(3)\n",
    "driver.get('http://www.op.gg/summoner/userName=ktmata')"
   ]
  },
  {
   "cell_type": "code",
   "execution_count": 5,
   "metadata": {
    "collapsed": true
   },
   "outputs": [],
   "source": [
    "driver.find_element_by_xpath('//a[@data-type=\"soloranked\"]').click()"
   ]
  },
  {
   "cell_type": "code",
   "execution_count": 20,
   "metadata": {
    "collapsed": true
   },
   "outputs": [],
   "source": [
    "# while True:\n",
    "#     game_more_button = driver.find_elements_by_css_selector('div.GameMoreButton.Box')\n",
    "#     if game_more_button == []:\n",
    "#         break\n",
    "#     game_more_button[0].click()\n",
    "#     time.sleep(5)"
   ]
  },
  {
   "cell_type": "code",
   "execution_count": 14,
   "metadata": {},
   "outputs": [
    {
     "ename": "IndexError",
     "evalue": "list index out of range",
     "output_type": "error",
     "traceback": [
      "\u001b[1;31m---------------------------------------------------------------------------\u001b[0m",
      "\u001b[1;31mIndexError\u001b[0m                                Traceback (most recent call last)",
      "\u001b[1;32m<ipython-input-14-6def8ccebedf>\u001b[0m in \u001b[0;36m<module>\u001b[1;34m()\u001b[0m\n\u001b[0;32m     30\u001b[0m                                                                         \u001b[1;31m#2 : 빌드\u001b[0m\u001b[1;33m\u001b[0m\u001b[1;33m\u001b[0m\u001b[0m\n\u001b[0;32m     31\u001b[0m                                                                         \u001b[1;31m#3 : etc\u001b[0m\u001b[1;33m\u001b[0m\u001b[1;33m\u001b[0m\u001b[0m\n\u001b[1;32m---> 32\u001b[1;33m     \u001b[0mtab_headers\u001b[0m\u001b[1;33m[\u001b[0m\u001b[1;36m3\u001b[0m\u001b[1;33m]\u001b[0m\u001b[1;33m.\u001b[0m\u001b[0mclick\u001b[0m\u001b[1;33m(\u001b[0m\u001b[1;33m)\u001b[0m\u001b[1;33m\u001b[0m\u001b[0m\n\u001b[0m\u001b[0;32m     33\u001b[0m     \u001b[0mtime\u001b[0m\u001b[1;33m.\u001b[0m\u001b[0msleep\u001b[0m\u001b[1;33m(\u001b[0m\u001b[1;36m2\u001b[0m\u001b[1;33m)\u001b[0m\u001b[1;33m\u001b[0m\u001b[0m\n\u001b[0;32m     34\u001b[0m     \u001b[0metc_gold\u001b[0m \u001b[1;33m=\u001b[0m \u001b[0mdriver\u001b[0m\u001b[1;33m.\u001b[0m\u001b[0mfind_element_by_css_selector\u001b[0m\u001b[1;33m(\u001b[0m\u001b[1;34m'div.Content.tabItem.MatchDetailContent-gold'\u001b[0m\u001b[1;33m)\u001b[0m\u001b[1;33m\u001b[0m\u001b[0m\n",
      "\u001b[1;31mIndexError\u001b[0m: list index out of range"
     ]
    }
   ],
   "source": [
    "for i in range(0, 20):\n",
    "    game_detail_button = driver.find_elements_by_css_selector('a.Button.MatchDetail')\n",
    "    game_detail_button[i].click()\n",
    "    time.sleep(2)\n",
    "    html = driver.page_source\n",
    "    PlayerData = BeautifulSoup(html, 'html.parser')\n",
    "    team_raw = PlayerData.find_all('tbody', {'class':'Content'})\n",
    "\n",
    "    champion_list = []\n",
    "    name_list = []\n",
    "\n",
    "    for line in team_raw:\n",
    "        team_champion_raw = line.find_all('td', {'class':'ChampionImage Cell'})\n",
    "        team_name_raw = line.find_all('td', {'class':'SummonerName Cell'})\n",
    "\n",
    "        team_champion = []\n",
    "        for champ in team_champion_raw:\n",
    "            champ = champ.text.strip()\n",
    "            champ = champ[:champ.find('\\n')]\n",
    "            team_champion.append(champ)\n",
    "        champion_list.append(team_champion)\n",
    "\n",
    "        team_name = []\n",
    "        for name in team_name_raw:\n",
    "            name = name.text.strip()\n",
    "            team_name.append(name)\n",
    "        name_list.append(team_name)\n",
    "    tab_headers = driver.find_elements_by_css_selector('li.tabHeader')[5:9] #0 : 종합\n",
    "                                                                        #1 : 팀 분석\n",
    "                                                                        #2 : 빌드\n",
    "                                                                        #3 : etc\n",
    "    tab_headers[3].click()\n",
    "    time.sleep(3)\n",
    "    etc_gold = driver.find_element_by_css_selector('div.Content.tabItem.MatchDetailContent-gold')\n",
    "    etc_html = etc_gold.get_attribute('innerHTML')\n",
    "    script = BeautifulSoup(etc_html, 'html.parser').script\n",
    "    graph_data = []\n",
    "    str_script = str(script)\n",
    "    offset = 0\n",
    "    \n",
    "    for idx in range(0, 20):\n",
    "        start = str_script.find('\"data\":[', offset) + len('\"data\":[')\n",
    "        end = str_script.find(']', start)\n",
    "\n",
    "        graph_data.append(str_script[start:end].split(','))\n",
    "\n",
    "        offset = end + len(']')\n",
    "        \n",
    "    table = pd.DataFrame(graph_data).add_suffix(\"분\")\n",
    "    gold_table = table[0:10]\n",
    "    exp_table = table[10:]\n",
    "    \n",
    "    gold_table.insert(0, \"챔피언\", champion_list[0] + champion_list[1])\n",
    "    gold_table.insert(0, \"소환사명\", name_list[0] + name_list[1])\n",
    "    exp_table.insert(0, \"챔피언\", champion_list[0] + champion_list[1])\n",
    "    exp_table.insert(0, \"소환사명\", name_list[0] + name_list[1])\n",
    "    \n",
    "    if len(gold_table.columns) > len(total_gold_table.columns):\n",
    "        gold_table_columns = gold_table.columns\n",
    "        exp_table_columns = exp_table.columns\n",
    "    else:\n",
    "        gold_table_columns = total_gold_table.columns\n",
    "        exp_table_columns = total_exp_table.columns\n",
    "\n",
    "\n",
    "    total_gold_table = total_gold_table.append(gold_table)[gold_table_columns]\n",
    "    total_exp_table = total_exp_table.append(exp_table)[exp_table_columns]\n",
    "    game_detail_button[i].click()"
   ]
  },
  {
   "cell_type": "code",
   "execution_count": 13,
   "metadata": {
    "collapsed": true
   },
   "outputs": [],
   "source": [
    "total_gold_table.to_csv(\"total_gold_table.csv\")\n",
    "total_exp_table.to_csv(\"total_exp_table.csv\")"
   ]
  },
  {
   "cell_type": "code",
   "execution_count": null,
   "metadata": {
    "collapsed": true
   },
   "outputs": [],
   "source": []
  }
 ],
 "metadata": {
  "kernelspec": {
   "display_name": "Python 3",
   "language": "python",
   "name": "python3"
  },
  "language_info": {
   "codemirror_mode": {
    "name": "ipython",
    "version": 3
   },
   "file_extension": ".py",
   "mimetype": "text/x-python",
   "name": "python",
   "nbconvert_exporter": "python",
   "pygments_lexer": "ipython3",
   "version": "3.6.2"
  }
 },
 "nbformat": 4,
 "nbformat_minor": 2
}
