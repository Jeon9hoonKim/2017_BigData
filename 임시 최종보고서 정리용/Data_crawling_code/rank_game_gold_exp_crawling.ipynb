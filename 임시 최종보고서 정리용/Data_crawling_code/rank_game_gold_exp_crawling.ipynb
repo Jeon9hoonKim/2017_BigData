{ 
 "cells": [
  {
   "cell_type": "markdown",
   "metadata": {},
   "source": [
    "## 솔로랭크 랭킹에 수록된 유저들의 최근 전적을 얻기 (획득 골드량, 획득 경험치 시계열 데이터)\n",
    " - Get_match_data.ipynb 파일의 주석을 참고"
   ]
  },
  {
   "cell_type": "code",
   "execution_count": 1,
   "metadata": {
    "collapsed": true
   },
   "outputs": [],
   "source": [
    "from selenium import webdriver\n",
    "import requests\n",
    "from bs4 import BeautifulSoup\n",
    "import pandas as pd\n",
    "import time"
   ]
  },
  {
   "cell_type": "code",
   "execution_count": 2,
   "metadata": {},
   "outputs": [
    {
     "data": {
      "text/plain": [
       "['deft123456', 'Tar2an', 'DWG BeryL', 'SKT T1 Untara', '11 14 9 7 8 20']"
      ]
     },
     "execution_count": 2,
     "metadata": {},
     "output_type": "execute_result"
    }
   ],
   "source": [
    "# Get user list from rank 6 to ...\n",
    "user_list = []\n",
    "for i in range(1,11):\n",
    "    url = 'http://www.op.gg/ranking/ladder/page={0}'.format(i)\n",
    "    resp = requests.get(url)\n",
    "    bs = BeautifulSoup(resp.text, 'html.parser')\n",
    "    users = bs.findAll(\"td\", {\"class\": \"ranking-table__cell ranking-table__cell--summoner\"})\n",
    "    for line in users:\n",
    "        line = str(line)\n",
    "        line = line[line.find(\"<span>\"):line.find(\"</span>\")].replace(\"<span>\",\"\")\n",
    "        user_list.append(line)\n",
    "user_list[:5]"
   ]
  },
  {
   "cell_type": "code",
   "execution_count": 3,
   "metadata": {
    "collapsed": true
   },
   "outputs": [],
   "source": [
    "# Denote index of game player that starts crawling and ends crawling\n",
    "start_number = 1 # 시작할 위치\n",
    "end_number = 200\n",
    "\n",
    "count = 1; # start number\n",
    "match_number_start = 20*(start_number-1)+1 # 시작할 match number , 보통 (count-1)*20+1"
   ]
  },
  {
   "cell_type": "code",
   "execution_count": 4,
   "metadata": {
    "collapsed": true
   },
   "outputs": [],
   "source": [
    "def match_data_load(user_name, match_number_start):\n",
    "    file_name1 = \"user_gold_{0}.csv\".format(user_name)\n",
    "    file_name2 = \"user_exp_{0}.csv\".format(user_name)\n",
    "    \n",
    "    total_gold_table = pd.DataFrame()\n",
    "    total_exp_table = pd.DataFrame()\n",
    "    \n",
    "    driver = webdriver.Chrome('/Users/김호준/Documents/chrome_webdriver/chromedriver')\n",
    "    driver.implicitly_wait(3)\n",
    "    driver.get('http://www.op.gg/summoner/userName={0}'.format(user_name))\n",
    "    \n",
    "    driver.find_element_by_xpath('//a[@data-type=\"soloranked\"]').click()\n",
    "    time.sleep(5)\n",
    "    for i in range(0, 20): \n",
    "        game_detail_button = driver.find_elements_by_css_selector('a.Button.MatchDetail')\n",
    "        game_detail_button[i].click()\n",
    "        time.sleep(2)\n",
    "        html = driver.page_source\n",
    "        PlayerData = BeautifulSoup(html, 'html.parser')\n",
    "        team_raw = PlayerData.find_all('tbody', {'class':'Content'})\n",
    "        game_raw = PlayerData.find_all('thead', {'class':'Header'})\n",
    "        \n",
    "        \n",
    "        win_lose = []\n",
    "        champion_list = []\n",
    "        name_list = []\n",
    "        \n",
    "        \n",
    "        for line in team_raw:\n",
    "            team_champion_raw = line.find_all('td', {'class':'ChampionImage Cell'})\n",
    "            team_name_raw = line.find_all('td', {'class':'SummonerName Cell'})\n",
    "\n",
    "            team_champion = []\n",
    "            for champ in team_champion_raw:\n",
    "                champ = champ.text.strip()\n",
    "                champ = champ[:champ.find('\\n')]\n",
    "                team_champion.append(champ)\n",
    "            champion_list.append(team_champion)\n",
    "\n",
    "            team_name = []\n",
    "            for name in team_name_raw:\n",
    "                name = name.text.strip()\n",
    "                team_name.append(name)\n",
    "            name_list.append(team_name)\n",
    "        tab_headers = driver.find_elements_by_xpath(\"//*[contains(text(), 'etc')]\") \n",
    "        if len(tab_headers) == 0:\n",
    "            game_detail_button[i].click()\n",
    "            continue\n",
    "        tab_headers[0].click()\n",
    "        time.sleep(3)\n",
    "        etc_gold = driver.find_element_by_css_selector('div.Content.tabItem.MatchDetailContent-gold')\n",
    "        etc_html = etc_gold.get_attribute('innerHTML')\n",
    "        script = BeautifulSoup(etc_html, 'html.parser').script\n",
    "        graph_data = []\n",
    "        str_script = str(script)\n",
    "        offset = 0\n",
    "\n",
    "        for idx in range(0, 20):\n",
    "            start = str_script.find('\"data\":[', offset) + len('\"data\":[')\n",
    "            end = str_script.find(']', start)\n",
    "\n",
    "            graph_data.append(str_script[start:end].split(','))\n",
    "\n",
    "            offset = end + len(']')\n",
    "\n",
    "        table = pd.DataFrame(graph_data).add_suffix(\"분\")\n",
    "        gold_table = table[0:10]\n",
    "        exp_table = table[10:]\n",
    "        \n",
    "        for gline in game_raw:\n",
    "            game_result_raw = gline.find_all('span', {'class':'GameResult'})\n",
    "\n",
    "            game_result = []\n",
    "            for gresult in game_result_raw:\n",
    "                gresult = gresult.text.strip()\n",
    "                game_result.append(gresult)\n",
    "            win_lose.append(game_result)\n",
    "        \n",
    "        win_lose = win_lose[1:]\n",
    "        if win_lose[0] == ['패배']:\n",
    "            win_lose = [0] * 5 + [1] * 5\n",
    "        else:\n",
    "            win_lose = [1] * 5 + [0] * 5\n",
    "\n",
    "        gold_table.insert(0, \"챔피언\", champion_list[0] + champion_list[1])\n",
    "        gold_table.insert(0, \"소환사명\", name_list[0] + name_list[1])\n",
    "        gold_table.insert(0, \"승패\", win_lose)\n",
    "        gold_table.insert(0, \"경기번호\", [i] * 10)\n",
    "        exp_table.insert(0, \"챔피언\", champion_list[0] + champion_list[1])\n",
    "        exp_table.insert(0, \"소환사명\", name_list[0] + name_list[1])\n",
    "        exp_table.insert(0, \"경기번호\", [i] * 10)\n",
    "        exp_table.insert(0, \"승패\", win_lose)\n",
    "\n",
    "        if len(gold_table.columns) > len(total_gold_table.columns):\n",
    "            gold_table_columns = gold_table.columns\n",
    "            exp_table_columns = exp_table.columns\n",
    "        else:\n",
    "            gold_table_columns = total_gold_table.columns\n",
    "            exp_table_columns = total_exp_table.columns\n",
    "\n",
    "\n",
    "        total_gold_table = total_gold_table.append(gold_table)[gold_table_columns]\n",
    "        total_exp_table = total_exp_table.append(exp_table)[exp_table_columns]\n",
    "        game_detail_button[i].click()\n",
    "        \n",
    "    matchorder = match_number_start\n",
    "    matchorder = matchorder + 1\n",
    "    total_gold_table.to_csv(file_name1)\n",
    "    total_exp_table.to_csv(file_name2)\n",
    "    driver.quit()\n",
    "    return matchorder"
   ]
  },
  {
   "cell_type": "code",
   "execution_count": 5,
   "metadata": {},
   "outputs": [
    {
     "ename": "WebDriverException",
     "evalue": "Message: chrome not reachable\n  (Session info: chrome=63.0.3239.84)\n  (Driver info: chromedriver=2.33.506120 (e3e53437346286c0bc2d2dc9aa4915ba81d9023f),platform=Windows NT 6.3.9600 x86_64)\n",
     "output_type": "error",
     "traceback": [
      "\u001b[1;31m---------------------------------------------------------------------------\u001b[0m",
      "\u001b[1;31mWebDriverException\u001b[0m                        Traceback (most recent call last)",
      "\u001b[1;32m<ipython-input-5-cff00c5f5b15>\u001b[0m in \u001b[0;36m<module>\u001b[1;34m()\u001b[0m\n\u001b[0;32m      5\u001b[0m         \u001b[0mcount\u001b[0m \u001b[1;33m+=\u001b[0m \u001b[1;36m1\u001b[0m\u001b[1;33m\u001b[0m\u001b[0m\n\u001b[0;32m      6\u001b[0m         \u001b[1;32mcontinue\u001b[0m\u001b[1;33m\u001b[0m\u001b[0m\n\u001b[1;32m----> 7\u001b[1;33m     \u001b[0mmatch_number_start\u001b[0m \u001b[1;33m=\u001b[0m \u001b[0mmatch_data_load\u001b[0m\u001b[1;33m(\u001b[0m\u001b[0muser_name\u001b[0m\u001b[1;33m,\u001b[0m \u001b[0mmatch_number_start\u001b[0m\u001b[1;33m)\u001b[0m\u001b[1;33m\u001b[0m\u001b[0m\n\u001b[0m\u001b[0;32m      8\u001b[0m     \u001b[0mprint\u001b[0m\u001b[1;33m(\u001b[0m\u001b[1;34m\"complete! count :\"\u001b[0m\u001b[1;33m,\u001b[0m\u001b[0mcount\u001b[0m\u001b[1;33m,\u001b[0m\u001b[1;34m\", error_start : count\"\u001b[0m\u001b[1;33m,\u001b[0m\u001b[0mcount\u001b[0m\u001b[1;33m+\u001b[0m\u001b[1;36m1\u001b[0m\u001b[1;33m,\u001b[0m\u001b[1;34m\", start_number\"\u001b[0m\u001b[1;33m,\u001b[0m \u001b[0mmatch_number_start\u001b[0m\u001b[1;33m)\u001b[0m\u001b[1;33m\u001b[0m\u001b[0m\n\u001b[0;32m      9\u001b[0m     \u001b[0mcount\u001b[0m \u001b[1;33m+=\u001b[0m \u001b[1;36m1\u001b[0m\u001b[1;33m\u001b[0m\u001b[0m\n",
      "\u001b[1;32m<ipython-input-4-2e03d69b1ce1>\u001b[0m in \u001b[0;36mmatch_data_load\u001b[1;34m(user_name, match_number_start)\u001b[0m\n\u001b[0;32m     10\u001b[0m     \u001b[0mdriver\u001b[0m\u001b[1;33m.\u001b[0m\u001b[0mget\u001b[0m\u001b[1;33m(\u001b[0m\u001b[1;34m'http://www.op.gg/summoner/userName={0}'\u001b[0m\u001b[1;33m.\u001b[0m\u001b[0mformat\u001b[0m\u001b[1;33m(\u001b[0m\u001b[0muser_name\u001b[0m\u001b[1;33m)\u001b[0m\u001b[1;33m)\u001b[0m\u001b[1;33m\u001b[0m\u001b[0m\n\u001b[0;32m     11\u001b[0m \u001b[1;33m\u001b[0m\u001b[0m\n\u001b[1;32m---> 12\u001b[1;33m     \u001b[0mdriver\u001b[0m\u001b[1;33m.\u001b[0m\u001b[0mfind_element_by_xpath\u001b[0m\u001b[1;33m(\u001b[0m\u001b[1;34m'//a[@data-type=\"soloranked\"]'\u001b[0m\u001b[1;33m)\u001b[0m\u001b[1;33m.\u001b[0m\u001b[0mclick\u001b[0m\u001b[1;33m(\u001b[0m\u001b[1;33m)\u001b[0m\u001b[1;33m\u001b[0m\u001b[0m\n\u001b[0m\u001b[0;32m     13\u001b[0m     \u001b[0mtime\u001b[0m\u001b[1;33m.\u001b[0m\u001b[0msleep\u001b[0m\u001b[1;33m(\u001b[0m\u001b[1;36m5\u001b[0m\u001b[1;33m)\u001b[0m\u001b[1;33m\u001b[0m\u001b[0m\n\u001b[0;32m     14\u001b[0m     \u001b[1;32mfor\u001b[0m \u001b[0mi\u001b[0m \u001b[1;32min\u001b[0m \u001b[0mrange\u001b[0m\u001b[1;33m(\u001b[0m\u001b[1;36m0\u001b[0m\u001b[1;33m,\u001b[0m \u001b[1;36m20\u001b[0m\u001b[1;33m)\u001b[0m\u001b[1;33m:\u001b[0m\u001b[1;33m\u001b[0m\u001b[0m\n",
      "\u001b[1;32mC:\\Users\\Public\\Anaconda3\\lib\\site-packages\\selenium\\webdriver\\remote\\webdriver.py\u001b[0m in \u001b[0;36mfind_element_by_xpath\u001b[1;34m(self, xpath)\u001b[0m\n\u001b[0;32m    363\u001b[0m             \u001b[0mdriver\u001b[0m\u001b[1;33m.\u001b[0m\u001b[0mfind_element_by_xpath\u001b[0m\u001b[1;33m(\u001b[0m\u001b[1;34m'//div/td[1]'\u001b[0m\u001b[1;33m)\u001b[0m\u001b[1;33m\u001b[0m\u001b[0m\n\u001b[0;32m    364\u001b[0m         \"\"\"\n\u001b[1;32m--> 365\u001b[1;33m         \u001b[1;32mreturn\u001b[0m \u001b[0mself\u001b[0m\u001b[1;33m.\u001b[0m\u001b[0mfind_element\u001b[0m\u001b[1;33m(\u001b[0m\u001b[0mby\u001b[0m\u001b[1;33m=\u001b[0m\u001b[0mBy\u001b[0m\u001b[1;33m.\u001b[0m\u001b[0mXPATH\u001b[0m\u001b[1;33m,\u001b[0m \u001b[0mvalue\u001b[0m\u001b[1;33m=\u001b[0m\u001b[0mxpath\u001b[0m\u001b[1;33m)\u001b[0m\u001b[1;33m\u001b[0m\u001b[0m\n\u001b[0m\u001b[0;32m    366\u001b[0m \u001b[1;33m\u001b[0m\u001b[0m\n\u001b[0;32m    367\u001b[0m     \u001b[1;32mdef\u001b[0m \u001b[0mfind_elements_by_xpath\u001b[0m\u001b[1;33m(\u001b[0m\u001b[0mself\u001b[0m\u001b[1;33m,\u001b[0m \u001b[0mxpath\u001b[0m\u001b[1;33m)\u001b[0m\u001b[1;33m:\u001b[0m\u001b[1;33m\u001b[0m\u001b[0m\n",
      "\u001b[1;32mC:\\Users\\Public\\Anaconda3\\lib\\site-packages\\selenium\\webdriver\\remote\\webdriver.py\u001b[0m in \u001b[0;36mfind_element\u001b[1;34m(self, by, value)\u001b[0m\n\u001b[0;32m    853\u001b[0m         return self.execute(Command.FIND_ELEMENT, {\n\u001b[0;32m    854\u001b[0m             \u001b[1;34m'using'\u001b[0m\u001b[1;33m:\u001b[0m \u001b[0mby\u001b[0m\u001b[1;33m,\u001b[0m\u001b[1;33m\u001b[0m\u001b[0m\n\u001b[1;32m--> 855\u001b[1;33m             'value': value})['value']\n\u001b[0m\u001b[0;32m    856\u001b[0m \u001b[1;33m\u001b[0m\u001b[0m\n\u001b[0;32m    857\u001b[0m     \u001b[1;32mdef\u001b[0m \u001b[0mfind_elements\u001b[0m\u001b[1;33m(\u001b[0m\u001b[0mself\u001b[0m\u001b[1;33m,\u001b[0m \u001b[0mby\u001b[0m\u001b[1;33m=\u001b[0m\u001b[0mBy\u001b[0m\u001b[1;33m.\u001b[0m\u001b[0mID\u001b[0m\u001b[1;33m,\u001b[0m \u001b[0mvalue\u001b[0m\u001b[1;33m=\u001b[0m\u001b[1;32mNone\u001b[0m\u001b[1;33m)\u001b[0m\u001b[1;33m:\u001b[0m\u001b[1;33m\u001b[0m\u001b[0m\n",
      "\u001b[1;32mC:\\Users\\Public\\Anaconda3\\lib\\site-packages\\selenium\\webdriver\\remote\\webdriver.py\u001b[0m in \u001b[0;36mexecute\u001b[1;34m(self, driver_command, params)\u001b[0m\n\u001b[0;32m    306\u001b[0m         \u001b[0mresponse\u001b[0m \u001b[1;33m=\u001b[0m \u001b[0mself\u001b[0m\u001b[1;33m.\u001b[0m\u001b[0mcommand_executor\u001b[0m\u001b[1;33m.\u001b[0m\u001b[0mexecute\u001b[0m\u001b[1;33m(\u001b[0m\u001b[0mdriver_command\u001b[0m\u001b[1;33m,\u001b[0m \u001b[0mparams\u001b[0m\u001b[1;33m)\u001b[0m\u001b[1;33m\u001b[0m\u001b[0m\n\u001b[0;32m    307\u001b[0m         \u001b[1;32mif\u001b[0m \u001b[0mresponse\u001b[0m\u001b[1;33m:\u001b[0m\u001b[1;33m\u001b[0m\u001b[0m\n\u001b[1;32m--> 308\u001b[1;33m             \u001b[0mself\u001b[0m\u001b[1;33m.\u001b[0m\u001b[0merror_handler\u001b[0m\u001b[1;33m.\u001b[0m\u001b[0mcheck_response\u001b[0m\u001b[1;33m(\u001b[0m\u001b[0mresponse\u001b[0m\u001b[1;33m)\u001b[0m\u001b[1;33m\u001b[0m\u001b[0m\n\u001b[0m\u001b[0;32m    309\u001b[0m             response['value'] = self._unwrap_value(\n\u001b[0;32m    310\u001b[0m                 response.get('value', None))\n",
      "\u001b[1;32mC:\\Users\\Public\\Anaconda3\\lib\\site-packages\\selenium\\webdriver\\remote\\errorhandler.py\u001b[0m in \u001b[0;36mcheck_response\u001b[1;34m(self, response)\u001b[0m\n\u001b[0;32m    192\u001b[0m         \u001b[1;32melif\u001b[0m \u001b[0mexception_class\u001b[0m \u001b[1;33m==\u001b[0m \u001b[0mUnexpectedAlertPresentException\u001b[0m \u001b[1;32mand\u001b[0m \u001b[1;34m'alert'\u001b[0m \u001b[1;32min\u001b[0m \u001b[0mvalue\u001b[0m\u001b[1;33m:\u001b[0m\u001b[1;33m\u001b[0m\u001b[0m\n\u001b[0;32m    193\u001b[0m             \u001b[1;32mraise\u001b[0m \u001b[0mexception_class\u001b[0m\u001b[1;33m(\u001b[0m\u001b[0mmessage\u001b[0m\u001b[1;33m,\u001b[0m \u001b[0mscreen\u001b[0m\u001b[1;33m,\u001b[0m \u001b[0mstacktrace\u001b[0m\u001b[1;33m,\u001b[0m \u001b[0mvalue\u001b[0m\u001b[1;33m[\u001b[0m\u001b[1;34m'alert'\u001b[0m\u001b[1;33m]\u001b[0m\u001b[1;33m.\u001b[0m\u001b[0mget\u001b[0m\u001b[1;33m(\u001b[0m\u001b[1;34m'text'\u001b[0m\u001b[1;33m)\u001b[0m\u001b[1;33m)\u001b[0m\u001b[1;33m\u001b[0m\u001b[0m\n\u001b[1;32m--> 194\u001b[1;33m         \u001b[1;32mraise\u001b[0m \u001b[0mexception_class\u001b[0m\u001b[1;33m(\u001b[0m\u001b[0mmessage\u001b[0m\u001b[1;33m,\u001b[0m \u001b[0mscreen\u001b[0m\u001b[1;33m,\u001b[0m \u001b[0mstacktrace\u001b[0m\u001b[1;33m)\u001b[0m\u001b[1;33m\u001b[0m\u001b[0m\n\u001b[0m\u001b[0;32m    195\u001b[0m \u001b[1;33m\u001b[0m\u001b[0m\n\u001b[0;32m    196\u001b[0m     \u001b[1;32mdef\u001b[0m \u001b[0m_value_or_default\u001b[0m\u001b[1;33m(\u001b[0m\u001b[0mself\u001b[0m\u001b[1;33m,\u001b[0m \u001b[0mobj\u001b[0m\u001b[1;33m,\u001b[0m \u001b[0mkey\u001b[0m\u001b[1;33m,\u001b[0m \u001b[0mdefault\u001b[0m\u001b[1;33m)\u001b[0m\u001b[1;33m:\u001b[0m\u001b[1;33m\u001b[0m\u001b[0m\n",
      "\u001b[1;31mWebDriverException\u001b[0m: Message: chrome not reachable\n  (Session info: chrome=63.0.3239.84)\n  (Driver info: chromedriver=2.33.506120 (e3e53437346286c0bc2d2dc9aa4915ba81d9023f),platform=Windows NT 6.3.9600 x86_64)\n"
     ]
    }
   ],
   "source": [
    "for user_name in user_list:\n",
    "    if count == end_number:\n",
    "        break\n",
    "    if count < start_number:\n",
    "        count += 1\n",
    "        continue\n",
    "    match_number_start = match_data_load(user_name, match_number_start)\n",
    "    print(\"complete! count :\",count,\", error_start : count\",count+1,\", start_number\", match_number_start)\n",
    "    count += 1"
   ]
  },
  {
   "cell_type": "code",
   "execution_count": 46,
   "metadata": {
    "collapsed": true
   },
   "outputs": [],
   "source": [
    "# Write user_list for concatenating player data in other codes\n",
    "pd.DataFrame(user_list).to_csv(\"user_list.csv\", encoding='euc-kr')"
   ]
  }
 ],
 "metadata": {
  "kernelspec": {
   "display_name": "Python 3",
   "language": "python",
   "name": "python3"
  },
  "language_info": {
   "codemirror_mode": {
    "name": "ipython",
    "version": 3
   },
   "file_extension": ".py",
   "mimetype": "text/x-python",
   "name": "python",
   "nbconvert_exporter": "python",
   "pygments_lexer": "ipython3",
   "version": "3.6.2"
  }
 },
 "nbformat": 4,
 "nbformat_minor": 2
}
