{
 "cells": [
  {
   "cell_type": "markdown",
   "metadata": {},
   "source": [
    "# Inven 롤 선수 공식 대회 전적 크롤링\n",
    " - inven사이트에서 한국 롤 선수들의 공식 대회 전적 (KDA, 킬관여율)을 크롤링"
   ]
  },
  {
   "cell_type": "markdown",
   "metadata": {
    "collapsed": true
   },
   "source": [
    "## Selenium crawler"
   ]
  },
  {
   "cell_type": "markdown",
   "metadata": {},
   "source": [
    "#### 참조한 사이트 : \n",
    "- https://beomi.github.io/2017/02/27/HowToMakeWebCrawler-With-Selenium/  ## Selenium 전체적인 사용법\n",
    "- http://yumere.tistory.com/75  ## submit 함수 사용법"
   ]
  },
  {
   "cell_type": "markdown",
   "metadata": {},
   "source": [
    "## Inven crawling"
   ]
  },
  {
   "cell_type": "markdown",
   "metadata": {},
   "source": [
    "#### 참조한 사이트\n",
    "- https://www.guru99.com/xpath-selenium.html  ## xpath에 관한 글"
   ]
  },
  {
   "cell_type": "code",
   "execution_count": 1,
   "metadata": {
    "collapsed": true
   },
   "outputs": [],
   "source": [
    "from selenium import webdriver\n",
    "from bs4 import BeautifulSoup"
   ]
  },
  {
   "cell_type": "code",
   "execution_count": 2,
   "metadata": {
    "collapsed": true
   },
   "outputs": [],
   "source": [
    "##chrome automation\n",
    "driver = webdriver.Chrome('/Users/김호준/Documents/chrome_webdriver/chromedriver') ##install chromedriver in \n",
    "                                                                      ##your computer and locate its directory.\n",
    "driver.implicitly_wait(3) "
   ]
  },
  {
   "cell_type": "code",
   "execution_count": 3,
   "metadata": {
    "collapsed": true
   },
   "outputs": [],
   "source": [
    "## open LOL inven site\n",
    "driver.get('http://lol.inven.co.kr/dataninfo/match/playerList.php?iskin=lol&shipGroup=&shipCode=&playerName=&champ=0&targetName=&startDate=&endDate=')"
   ]
  },
  {
   "cell_type": "code",
   "execution_count": 4,
   "metadata": {},
   "outputs": [
    {
     "ename": "KeyboardInterrupt",
     "evalue": "",
     "output_type": "error",
     "traceback": [
      "\u001b[1;31m---------------------------------------------------------------------------\u001b[0m",
      "\u001b[1;31mKeyboardInterrupt\u001b[0m                         Traceback (most recent call last)",
      "\u001b[1;32m<ipython-input-4-c7cdce989867>\u001b[0m in \u001b[0;36m<module>\u001b[1;34m()\u001b[0m\n\u001b[0;32m      4\u001b[0m     \u001b[0mmore_data\u001b[0m \u001b[1;33m=\u001b[0m \u001b[0mdriver\u001b[0m\u001b[1;33m.\u001b[0m\u001b[0mfind_element_by_xpath\u001b[0m\u001b[1;33m(\u001b[0m\u001b[1;34m'//*[@class=\"moreline\"]//a[@href=\"javascript:void(0);\"]'\u001b[0m\u001b[1;33m)\u001b[0m \u001b[1;31m## '더보기' button javascript\u001b[0m\u001b[1;33m\u001b[0m\u001b[0m\n\u001b[0;32m      5\u001b[0m     \u001b[0mmore_data\u001b[0m\u001b[1;33m.\u001b[0m\u001b[0mclick\u001b[0m\u001b[1;33m(\u001b[0m\u001b[1;33m)\u001b[0m\u001b[1;33m\u001b[0m\u001b[0m\n\u001b[1;32m----> 6\u001b[1;33m     \u001b[0mtime\u001b[0m\u001b[1;33m.\u001b[0m\u001b[0msleep\u001b[0m\u001b[1;33m(\u001b[0m\u001b[1;36m10\u001b[0m\u001b[1;33m)\u001b[0m \u001b[1;31m##give loading time to chrome browser\u001b[0m\u001b[1;33m\u001b[0m\u001b[0m\n\u001b[0m",
      "\u001b[1;31mKeyboardInterrupt\u001b[0m: "
     ]
    }
   ],
   "source": [
    "## find '더보기' element's javascript and click it\n",
    "import time\n",
    "while(True):\n",
    "    more_data = driver.find_element_by_xpath('//*[@class=\"moreline\"]//a[@href=\"javascript:void(0);\"]') ## '더보기' button javascript\n",
    "    more_data.click()\n",
    "    time.sleep(10) ##give loading time to chrome browser"
   ]
  },
  {
   "cell_type": "markdown",
   "metadata": {},
   "source": [
    "## Use BeautifulSoup"
   ]
  },
  {
   "cell_type": "code",
   "execution_count": 5,
   "metadata": {
    "collapsed": true
   },
   "outputs": [],
   "source": [
    "## get html source of current page\n",
    "html = driver.page_source\n",
    "soup = BeautifulSoup(html, 'html.parser')"
   ]
  },
  {
   "cell_type": "code",
   "execution_count": 6,
   "metadata": {
    "collapsed": true
   },
   "outputs": [],
   "source": [
    "# Load .csv file that saved by selenium module\n",
    "prettify = soup('tbody')[1].prettify('euc-kr')\n",
    "with open(\"output_score.html\", \"wb\") as file:\n",
    "    file.write(prettify)"
   ]
  },
  {
   "cell_type": "code",
   "execution_count": 7,
   "metadata": {
    "collapsed": true
   },
   "outputs": [],
   "source": [
    "file = open(\"output_score.html\", 'r')\n",
    "html = BeautifulSoup(file, 'html.parser')\n",
    "data = html.find_all(\"td\")"
   ]
  },
  {
   "cell_type": "code",
   "execution_count": 8,
   "metadata": {},
   "outputs": [
    {
     "name": "stdout",
     "output_type": "stream",
     "text": [
      "[<td>\n",
      "   17.12.11\n",
      "  </td>, <td class=\"left\" onmouseout=\"LOL.CommonLayer.hide();\" onmouseover=\"LOL.CommonLayer.showText('All-Star 2017 결승전 5세트');\">\n",
      "   2017 올스타\n",
      "  </td>, <td class=\"left\">\n",
      "<a href=\"http://lol.inven.co.kr/dataninfo/proteam/progamer.php?code=998\">\n",
      "    LMS Ziv\n",
      "   </a>\n",
      "</td>, <td>\n",
      "<div class=\"none\">\n",
      "    마오카이\n",
      "   </div>\n",
      "<img onmouseout=\"LOL.CommonLayer.hide();\" onmouseover=\"LOL.CommonLayer.showText('마오카이');\" src=\"http://static.inven.co.kr/image_2011/site_image/lol/dataninfo/icon/champions/Maokai_Square_0_2.jpg\"/>\n",
      "</td>, <td>\n",
      "<img onmouseout=\"LOL.CommonLayer.hide();\" onmouseover=\"LOL.CommonLayer.showText('점멸');\" src=\"http://static.inven.co.kr/image_2011/site_image/lol/dataninfo/icon/spells/lol_spell_flash.png\"/>\n",
      "<img onmouseout=\"LOL.CommonLayer.hide();\" onmouseover=\"LOL.CommonLayer.showText('순간이동');\" src=\"http://static.inven.co.kr/image_2011/site_image/lol/dataninfo/icon/spells/lol_spell_teleport.png\"/>\n",
      "</td>, <td>\n",
      "   패\n",
      "  </td>, <td>\n",
      "   0\n",
      "  </td>, <td>\n",
      "   5\n",
      "  </td>, <td>\n",
      "   6\n",
      "  </td>, <td>\n",
      "   1.2\n",
      "  </td>, <td>\n",
      "   50%\n",
      "  </td>]\n"
     ]
    }
   ],
   "source": [
    "print(data[0:11]) #0 : index, 1 : competition name, 2 : player name, 3 : played character, 4 : summoner spell, 5 : win/lose, 6 : Kill, \n",
    "                  #7 : Death, 8 : Assist, 9 : KDA, 10 : kill contribution"
   ]
  },
  {
   "cell_type": "code",
   "execution_count": 9,
   "metadata": {
    "collapsed": true
   },
   "outputs": [],
   "source": [
    "# Parsing data \n",
    "str_data = []\n",
    "for i in range(0, len(data)):\n",
    "    string = str(data[i])\n",
    "    data[i] = str(data[i])\n",
    "    if(i % 11 == 0):\n",
    "        str_data.append(string.replace(\"<td>\\n   \", '').replace(\"\\n  </td>\", ''))\n",
    "    elif(i % 11 == 1):\n",
    "        begin = string.find(\"'\")\n",
    "        end = string.find(\"'\", begin+1)\n",
    "        str_data.append(string[begin+1:end])\n",
    "    elif(i % 11 == 2):\n",
    "        begin = string.find('\">\\n   ')\n",
    "        end = string.find(\"\\n\", begin+7)\n",
    "        str_data.append(string[begin+6:end])\n",
    "    elif(i % 11 == 3):\n",
    "        begin = string.find(\"'\")\n",
    "        end = string.find(\"'\", begin+1)\n",
    "        str_data.append(string[begin+1:end])\n",
    "    elif(i % 11 == 4):\n",
    "        begin1 = string.find(\"'\")\n",
    "        end1 = string.find(\"'\", begin1+1)\n",
    "        str_data.append(string[begin1+1:end1])\n",
    "        \n",
    "        begin2 = string.find(\"'\", end1+1)\n",
    "        end2 = string.find(\"'\", begin2+1)\n",
    "        str_data.append(string[begin2+1:end2])\n",
    "    elif(i % 11 == 5):\n",
    "        str_data.append(string[8])\n",
    "    elif(i % 11 == 6):\n",
    "        str_data.append(string[8])\n",
    "    elif(i % 11 == 7):\n",
    "        str_data.append(string[8])\n",
    "    elif(i % 11 == 8):\n",
    "        str_data.append(string[8])\n",
    "    elif(i % 11 == 9):\n",
    "        end = string.find(\"\\n  </td>\")\n",
    "        str_data.append(string[8:end])\n",
    "    elif(i % 11 == 10):\n",
    "        end = string.find(\"\\n  </td>\")\n",
    "        str_data.append(string[8:end])"
   ]
  },
  {
   "cell_type": "markdown",
   "metadata": {},
   "source": [
    "## Move data to Pandas"
   ]
  },
  {
   "cell_type": "code",
   "execution_count": 10,
   "metadata": {
    "collapsed": true
   },
   "outputs": [],
   "source": [
    "import pandas as pd\n",
    "import numpy as np\n",
    "import matplotlib.pyplot as plt"
   ]
  },
  {
   "cell_type": "code",
   "execution_count": 11,
   "metadata": {
    "collapsed": true
   },
   "outputs": [],
   "source": [
    "# Make 2 dimensional array that holds competition data\n",
    "before_pandas = []\n",
    "for i in range(0, int(len(str_data)/12)):\n",
    "    before_pandas.append(str_data[12 * i : 12 * i + 12])"
   ]
  },
  {
   "cell_type": "code",
   "execution_count": 12,
   "metadata": {},
   "outputs": [
    {
     "data": {
      "text/html": [
       "<div>\n",
       "<style>\n",
       "    .dataframe thead tr:only-child th {\n",
       "        text-align: right;\n",
       "    }\n",
       "\n",
       "    .dataframe thead th {\n",
       "        text-align: left;\n",
       "    }\n",
       "\n",
       "    .dataframe tbody tr th {\n",
       "        vertical-align: top;\n",
       "    }\n",
       "</style>\n",
       "<table border=\"1\" class=\"dataframe\">\n",
       "  <thead>\n",
       "    <tr style=\"text-align: right;\">\n",
       "      <th></th>\n",
       "      <th>대회날짜</th>\n",
       "      <th>대회명</th>\n",
       "      <th>선수이름</th>\n",
       "      <th>챔피언</th>\n",
       "      <th>스펠1</th>\n",
       "      <th>스펠2</th>\n",
       "      <th>승/패</th>\n",
       "      <th>킬</th>\n",
       "      <th>데스</th>\n",
       "      <th>어시</th>\n",
       "      <th>KDA</th>\n",
       "      <th>킬관여율</th>\n",
       "    </tr>\n",
       "  </thead>\n",
       "  <tbody>\n",
       "    <tr>\n",
       "      <th>0</th>\n",
       "      <td>17.12.11</td>\n",
       "      <td>All-Star 2017 결승전 5세트</td>\n",
       "      <td>LMS Ziv</td>\n",
       "      <td>마오카이</td>\n",
       "      <td>점멸</td>\n",
       "      <td>순간이동</td>\n",
       "      <td>패</td>\n",
       "      <td>0</td>\n",
       "      <td>5</td>\n",
       "      <td>6</td>\n",
       "      <td>1.2</td>\n",
       "      <td>50%</td>\n",
       "    </tr>\n",
       "    <tr>\n",
       "      <th>1</th>\n",
       "      <td>17.12.11</td>\n",
       "      <td>All-Star 2017 결승전 5세트</td>\n",
       "      <td>LMS Karsa</td>\n",
       "      <td>카직스</td>\n",
       "      <td>강타</td>\n",
       "      <td>점멸</td>\n",
       "      <td>패</td>\n",
       "      <td>5</td>\n",
       "      <td>6</td>\n",
       "      <td>3</td>\n",
       "      <td>1.3</td>\n",
       "      <td>67%</td>\n",
       "    </tr>\n",
       "    <tr>\n",
       "      <th>2</th>\n",
       "      <td>17.12.11</td>\n",
       "      <td>All-Star 2017 결승전 5세트</td>\n",
       "      <td>LMS FoFo</td>\n",
       "      <td>아지르</td>\n",
       "      <td>점멸</td>\n",
       "      <td>회복</td>\n",
       "      <td>패</td>\n",
       "      <td>5</td>\n",
       "      <td>3</td>\n",
       "      <td>4</td>\n",
       "      <td>3</td>\n",
       "      <td>75%</td>\n",
       "    </tr>\n",
       "    <tr>\n",
       "      <th>3</th>\n",
       "      <td>17.12.11</td>\n",
       "      <td>All-Star 2017 결승전 5세트</td>\n",
       "      <td>LMS Bebe</td>\n",
       "      <td>진</td>\n",
       "      <td>점멸</td>\n",
       "      <td>회복</td>\n",
       "      <td>패</td>\n",
       "      <td>1</td>\n",
       "      <td>2</td>\n",
       "      <td>6</td>\n",
       "      <td>3.5</td>\n",
       "      <td>58%</td>\n",
       "    </tr>\n",
       "    <tr>\n",
       "      <th>4</th>\n",
       "      <td>17.12.11</td>\n",
       "      <td>All-Star 2017 결승전 5세트</td>\n",
       "      <td>LMS SwordArt</td>\n",
       "      <td>탐 켄치</td>\n",
       "      <td>탈진</td>\n",
       "      <td>점멸</td>\n",
       "      <td>패</td>\n",
       "      <td>1</td>\n",
       "      <td>0</td>\n",
       "      <td>5</td>\n",
       "      <td>7.2</td>\n",
       "      <td>50%</td>\n",
       "    </tr>\n",
       "  </tbody>\n",
       "</table>\n",
       "</div>"
      ],
      "text/plain": [
       "       대회날짜                    대회명           선수이름   챔피언 스펠1   스펠2 승/패  킬 데스  \\\n",
       "0  17.12.11  All-Star 2017 결승전 5세트        LMS Ziv  마오카이  점멸  순간이동   패  0  5   \n",
       "1  17.12.11  All-Star 2017 결승전 5세트      LMS Karsa   카직스  강타    점멸   패  5  6   \n",
       "2  17.12.11  All-Star 2017 결승전 5세트       LMS FoFo   아지르  점멸    회복   패  5  3   \n",
       "3  17.12.11  All-Star 2017 결승전 5세트       LMS Bebe     진  점멸    회복   패  1  2   \n",
       "4  17.12.11  All-Star 2017 결승전 5세트   LMS SwordArt  탐 켄치  탈진    점멸   패  1  0   \n",
       "\n",
       "  어시  KDA 킬관여율  \n",
       "0  6  1.2  50%  \n",
       "1  3  1.3  67%  \n",
       "2  4    3  75%  \n",
       "3  6  3.5  58%  \n",
       "4  5  7.2  50%  "
      ]
     },
     "execution_count": 12,
     "metadata": {},
     "output_type": "execute_result"
    }
   ],
   "source": [
    "# Naming columns\n",
    "column_name = ['대회날짜', '대회명', '선수이름', '챔피언', '스펠1', '스펠2', '승/패', '킬', '데스', '어시', 'KDA', '킬관여율']\n",
    "df = pd.DataFrame(before_pandas, columns=column_name)\n",
    "df.head(5)"
   ]
  },
  {
   "cell_type": "code",
   "execution_count": 13,
   "metadata": {
    "collapsed": true
   },
   "outputs": [],
   "source": [
    "# Make csv of data\n",
    "df.to_csv(\"대회전적.csv\")"
   ]
  }
 ],
 "metadata": {
  "kernelspec": {
   "display_name": "Python 3",
   "language": "python",
   "name": "python3"
  },
  "language_info": {
   "codemirror_mode": {
    "name": "ipython",
    "version": 3
   },
   "file_extension": ".py",
   "mimetype": "text/x-python",
   "name": "python",
   "nbconvert_exporter": "python",
   "pygments_lexer": "ipython3",
   "version": "3.6.2"
  }
 },
 "nbformat": 4,
 "nbformat_minor": 2
}
