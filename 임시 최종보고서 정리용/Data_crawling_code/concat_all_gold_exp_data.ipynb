{ 
 "cells": [
  {
   "cell_type": "markdown",
   "metadata": {},
   "source": [
    "## 선수별 골드 획득량, 경험치 획득량 시계열 데이터 concatenate\n",
    " - rank_game_gold_exp_crawling.ipynb에서 만든 선수들의 골드, 경험치 시계열 데이터를 합친다.\n",
    " - 합친 후에 팀당 총 골드 획득량이 시간에 따라 어떻게 변하는지 본다."
   ]
  },
  {
   "cell_type": "code",
   "execution_count": 1,
   "metadata": {
    "collapsed": true
   },
   "outputs": [],
   "source": [
    "from selenium import webdriver\n",
    "import requests\n",
    "from bs4 import BeautifulSoup\n",
    "import pandas as pd\n",
    "import time"
   ]
  },
  {
   "cell_type": "code",
   "execution_count": 2,
   "metadata": {
    "scrolled": true
   },
   "outputs": [
    {
     "data": {
      "text/html": [
       "<div>\n",
       "<style>\n",
       "    .dataframe thead tr:only-child th {\n",
       "        text-align: right;\n",
       "    }\n",
       "\n",
       "    .dataframe thead th {\n",
       "        text-align: left;\n",
       "    }\n",
       "\n",
       "    .dataframe tbody tr th {\n",
       "        vertical-align: top;\n",
       "    }\n",
       "</style>\n",
       "<table border=\"1\" class=\"dataframe\">\n",
       "  <thead>\n",
       "    <tr style=\"text-align: right;\">\n",
       "      <th></th>\n",
       "      <th>Unnamed: 0</th>\n",
       "      <th>0</th>\n",
       "    </tr>\n",
       "  </thead>\n",
       "  <tbody>\n",
       "    <tr>\n",
       "      <th>0</th>\n",
       "      <td>0</td>\n",
       "      <td>deft123456</td>\n",
       "    </tr>\n",
       "    <tr>\n",
       "      <th>1</th>\n",
       "      <td>1</td>\n",
       "      <td>Tar2an</td>\n",
       "    </tr>\n",
       "    <tr>\n",
       "      <th>2</th>\n",
       "      <td>2</td>\n",
       "      <td>SKT T1 Untara</td>\n",
       "    </tr>\n",
       "    <tr>\n",
       "      <th>3</th>\n",
       "      <td>3</td>\n",
       "      <td>yizhiyu</td>\n",
       "    </tr>\n",
       "    <tr>\n",
       "      <th>4</th>\n",
       "      <td>4</td>\n",
       "      <td>11 14 9 7 8 20</td>\n",
       "    </tr>\n",
       "  </tbody>\n",
       "</table>\n",
       "</div>"
      ],
      "text/plain": [
       "   Unnamed: 0               0\n",
       "0           0      deft123456\n",
       "1           1          Tar2an\n",
       "2           2   SKT T1 Untara\n",
       "3           3         yizhiyu\n",
       "4           4  11 14 9 7 8 20"
      ]
     },
     "execution_count": 2,
     "metadata": {},
     "output_type": "execute_result"
    }
   ],
   "source": [
    "# Read user_list that used when crawling player rank match data\n",
    "user_dataframe = pd.read_csv('user_list.csv', engine='python')\n",
    "user_dataframe.head(5)"
   ]
  },
  {
   "cell_type": "code",
   "execution_count": 3,
   "metadata": {},
   "outputs": [
    {
     "data": {
      "text/plain": [
       "['deft123456', 'Tar2an', 'SKT T1 Untara', 'yizhiyu', '11 14 9 7 8 20']"
      ]
     },
     "execution_count": 3,
     "metadata": {},
     "output_type": "execute_result"
    }
   ],
   "source": [
    "user_list = list(user_dataframe['0'])\n",
    "user_list[:5]"
   ]
  },
  {
   "cell_type": "code",
   "execution_count": null,
   "metadata": {
    "scrolled": true
   },
   "outputs": [],
   "source": [
    "# Concat player match data\n",
    "total_gold_table = pd.DataFrame() # Table that stores gold series data of all players\n",
    "total_exp_table = pd.DataFrame() # Table that stores exp series data of all players\n",
    "i = 0\n",
    "for user_name in user_list[:5]:\n",
    "    file_name1 = \"user_gold_{0}.csv\".format(user_name)\n",
    "    file_name2 = \"user_exp_{0}.csv\".format(user_name)\n",
    "    gold_table = pd.read_csv(file_name1, engine='python')\n",
    "    exp_table = pd.read_csv(file_name2, engine='python')\n",
    "    gold_table[\"경기번호\"] = gold_table[\"경기번호\"] + i * 20 # Make match number for each match\n",
    "    exp_table[\"경기번호\"] = exp_table[\"경기번호\"] + i * 20 # Make match number for each match\n",
    "    \n",
    "    if len(gold_table.columns) > len(total_gold_table.columns): # Keep columns to maximum duration series data\n",
    "        gold_table_columns = gold_table.columns\n",
    "        exp_table_columns = exp_table.columns\n",
    "    else:\n",
    "        gold_table_columns = total_gold_table.columns\n",
    "        exp_table_columns = total_exp_table.columns\n",
    "\n",
    "    total_gold_table = total_gold_table.append(gold_table)[gold_table_columns]\n",
    "    total_exp_table = total_exp_table.append(exp_table)[exp_table_columns]\n",
    "        \n",
    "    i = i + 1"
   ]
  },
  {
   "cell_type": "code",
   "execution_count": null,
   "metadata": {
    "collapsed": true
   },
   "outputs": [],
   "source": [
    "# Delete unnecessary column\n",
    "del total_gold_table['Unnamed: 0']\n",
    "del total_exp_table['Unnamed: 0']"
   ]
  },
  {
   "cell_type": "code",
   "execution_count": null,
   "metadata": {
    "scrolled": true
   },
   "outputs": [],
   "source": [
    "total_gold_table.head(5)"
   ]
  },
  {
   "cell_type": "code",
   "execution_count": null,
   "metadata": {
    "scrolled": true
   },
   "outputs": [],
   "source": [
    "total_exp_table.head(5)"
   ]
  },
  {
   "cell_type": "code",
   "execution_count": null,
   "metadata": {
    "collapsed": true
   },
   "outputs": [],
   "source": [
    "# Sum of gold and exp for each team\n",
    "gold_sum_table = pd.DataFrame()\n",
    "exp_sum_table = pd.DataFrame()\n",
    "\n",
    "for i in range(0, 999):\n",
    "    gold_sum_table = gold_sum_table.append(total_gold_table[5 * i: 5 * (i + 1)].groupby(\"경기번호\").sum())\n",
    "    exp_sum_table = exp_sum_table.append(total_exp_table[5 * i: 5 * (i + 1)].groupby(\"경기번호\").sum())"
   ]
  },
  {
   "cell_type": "code",
   "execution_count": null,
   "metadata": {
    "scrolled": true
   },
   "outputs": [],
   "source": [
    "gold_sum_table[\"승패\"] = gold_sum_table[\"승패\"] / 5\n",
    "gold_sum_table.head(5)"
   ]
  },
  {
   "cell_type": "code",
   "execution_count": null,
   "metadata": {
    "scrolled": true
   },
   "outputs": [],
   "source": [
    "exp_sum_table[\"승패\"] = exp_sum_table[\"승패\"] / 5\n",
    "exp_sum_table.head(5)"
   ]
  }
 ],
 "metadata": {
  "kernelspec": {
   "display_name": "Python 3",
   "language": "python",
   "name": "python3"
  },
  "language_info": {
   "codemirror_mode": {
    "name": "ipython",
    "version": 3
   },
   "file_extension": ".py",
   "mimetype": "text/x-python",
   "name": "python",
   "nbconvert_exporter": "python",
   "pygments_lexer": "ipython3",
   "version": "3.6.2"
  }
 },
 "nbformat": 4,
 "nbformat_minor": 2
}
